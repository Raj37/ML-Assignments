{
 "cells": [
  {
   "cell_type": "markdown",
   "metadata": {},
   "source": [
    "##### 1. Write a program which will find all such numbers which are divisible by 7 but are not a multiple of 5, between 2000 and 3200 (both included). The numbers obtained should be printed in a comma-separated sequence on a single line."
   ]
  },
  {
   "cell_type": "code",
   "execution_count": 28,
   "metadata": {},
   "outputs": [
    {
     "name": "stdout",
     "output_type": "stream",
     "text": [
      "[2002, 2009, 2016, 2023, 2037, 2044, 2051, 2058, 2072, 2079, 2086, 2093, 2107, 2114, 2121, 2128, 2142, 2149, 2156, 2163, 2177, 2184, 2191, 2198, 2212, 2219, 2226, 2233, 2247, 2254, 2261, 2268, 2282, 2289, 2296, 2303, 2317, 2324, 2331, 2338, 2352, 2359, 2366, 2373, 2387, 2394, 2401, 2408, 2422, 2429, 2436, 2443, 2457, 2464, 2471, 2478, 2492, 2499, 2506, 2513, 2527, 2534, 2541, 2548, 2562, 2569, 2576, 2583, 2597, 2604, 2611, 2618, 2632, 2639, 2646, 2653, 2667, 2674, 2681, 2688, 2702, 2709, 2716, 2723, 2737, 2744, 2751, 2758, 2772, 2779, 2786, 2793, 2807, 2814, 2821, 2828, 2842, 2849, 2856, 2863, 2877, 2884, 2891, 2898, 2912, 2919, 2926, 2933, 2947, 2954, 2961, 2968, 2982, 2989, 2996, 3003, 3017, 3024, 3031, 3038, 3052, 3059, 3066, 3073, 3087, 3094, 3101, 3108, 3122, 3129, 3136, 3143, 3157, 3164, 3171, 3178, 3192, 3199]\n"
     ]
    }
   ],
   "source": [
    "l = [] #Empty list declaration\n",
    "\n",
    "for i in list(range(2000,3201)): #Iterate over list item from lower to upper bound\n",
    "    if ((i%7 == 0) & (i%5 != 0)): #Check item is divisible by 7 but not multiple of 5\n",
    "        l.append(i) #Append item to empty list declared above\n",
    "        \n",
    "#Output comma separated seq in sigle line\n",
    "print(l, sep=',')     "
   ]
  },
  {
   "cell_type": "markdown",
   "metadata": {},
   "source": [
    "##### 2. Write a Python program to accept the user's first and last name and then getting them printed in the the reverse order with a space between first name and last name.     "
   ]
  },
  {
   "cell_type": "code",
   "execution_count": 45,
   "metadata": {},
   "outputs": [
    {
     "name": "stdout",
     "output_type": "stream",
     "text": [
      "Enter first name: Raj\n",
      "Enter last name: Kamal\n",
      "Full name before reverse:  Raj Kamal\n",
      "Full name after reverse by Sol1:  Kamal Raj\n",
      "Full name after reverse by Sol2:  Kamal Raj\n"
     ]
    }
   ],
   "source": [
    "#Sol-1\n",
    "fname = input(\"Enter first name: \") #User input for first name\n",
    "lname = input(\"Enter last name: \") #User input for last name\n",
    "print(\"Full name before reverse: \", (fname + \" \" + lname))\n",
    "print(\"Full name after reverse by Sol1: \", (lname + \" \" + fname))\n",
    "\n",
    "#Sol-2\n",
    "l = [] #Empty list \n",
    "l.append(fname)\n",
    "l.append(lname)\n",
    "print(\"Full name after reverse by Sol2: \", l[::-1][0]+\" \"+l[::-1][1])"
   ]
  },
  {
   "cell_type": "markdown",
   "metadata": {},
   "source": [
    "##### 3. Write a Python program to find the volume of a sphere with diameter 12 cm. Formula: V=4/3 * π * r 3"
   ]
  },
  {
   "cell_type": "code",
   "execution_count": 74,
   "metadata": {},
   "outputs": [
    {
     "name": "stdout",
     "output_type": "stream",
     "text": [
      "Volumne of sphere with diameter 12 cm:  904.7786842338603\n"
     ]
    }
   ],
   "source": [
    "#Import math library for pi value\n",
    "import math as m\n",
    "\n",
    "pi=m.pi # pi value\n",
    "d = 12 # circle diameter\n",
    "r = d/2 # circle radius \n",
    "V = 4/3*pi*r**3 # circle volume\n",
    "\n",
    "#Output- calculated circle volume \n",
    "print(\"Volumne of sphere with diameter 12 cm: \", V) "
   ]
  }
 ],
 "metadata": {
  "kernelspec": {
   "display_name": "Python 3",
   "language": "python",
   "name": "python3"
  },
  "language_info": {
   "codemirror_mode": {
    "name": "ipython",
    "version": 3
   },
   "file_extension": ".py",
   "mimetype": "text/x-python",
   "name": "python",
   "nbconvert_exporter": "python",
   "pygments_lexer": "ipython3",
   "version": "3.6.5"
  }
 },
 "nbformat": 4,
 "nbformat_minor": 2
}
