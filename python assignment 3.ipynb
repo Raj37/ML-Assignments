{
 "cells": [
  {
   "cell_type": "markdown",
   "metadata": {},
   "source": [
    "1.1 Write a Python Program to implement your own myreduce() function which works exactly\n",
    "like Python's built-in function reduce()"
   ]
  },
  {
   "cell_type": "code",
   "execution_count": 62,
   "metadata": {},
   "outputs": [],
   "source": [
    "def myreduce(fun,itr,start):\n",
    "    '''\n",
    "    myreduce fun works exactly same as python built-in fun\n",
    "    fun args fun,itr & start\n",
    "    fun- lambda exp or user defined fun()\n",
    "    itr- iterable object\n",
    "    start- start value of accumulatar used in reduce()\n",
    "    '''\n",
    "    acc=start\n",
    "    for i in range(0,len(itr)):\n",
    "        #acc=acc+itr[i]\n",
    "        acc=fun(acc,itr[i])\n",
    "    return acc"
   ]
  },
  {
   "cell_type": "code",
   "execution_count": 72,
   "metadata": {},
   "outputs": [
    {
     "data": {
      "text/plain": [
       "6"
      ]
     },
     "execution_count": 72,
     "metadata": {},
     "output_type": "execute_result"
    }
   ],
   "source": [
    "# define user define fun to test myreduce fun()\n",
    "def multiply(x,y):\n",
    "    '''\n",
    "    multiply two objects\n",
    "    retrun mutiplication\n",
    "    '''\n",
    "    return x*y\n",
    "\n",
    "#Test myreduce() using udf created above\n",
    "myreduce(multiply,[1,2,3],1)"
   ]
  },
  {
   "cell_type": "code",
   "execution_count": 74,
   "metadata": {},
   "outputs": [
    {
     "data": {
      "text/plain": [
       "'raj'"
      ]
     },
     "execution_count": 74,
     "metadata": {},
     "output_type": "execute_result"
    }
   ],
   "source": [
    "def add(x,y):\n",
    "    '''\n",
    "    udf returns addition of two objects\n",
    "    '''\n",
    "    return x+y\n",
    "\n",
    "#Test myreduce() using udf add() created above\n",
    "myreduce(add,['r','a','j'],'')"
   ]
  },
  {
   "cell_type": "code",
   "execution_count": 77,
   "metadata": {},
   "outputs": [
    {
     "data": {
      "text/plain": [
       "6"
      ]
     },
     "execution_count": 77,
     "metadata": {},
     "output_type": "execute_result"
    }
   ],
   "source": [
    "#Test myfilter() with lambda & list objects\n",
    "myreduce(lambda x,y:x+y,[1,2,3],0)"
   ]
  },
  {
   "cell_type": "markdown",
   "metadata": {},
   "source": [
    "1.2 Write a Python program to implement your own myfilter() function which works exactly\n",
    "like Python's built-in function filter()"
   ]
  },
  {
   "cell_type": "code",
   "execution_count": 75,
   "metadata": {},
   "outputs": [],
   "source": [
    "def myfilter(fun,itr):\n",
    "    '''\n",
    "    custom filter() works excatly same as python built-in filter()\n",
    "    using args fun & itr.\n",
    "    fun- udf to apply on iterable object\n",
    "    itr- iterable obj\n",
    "    '''\n",
    "    l=[]\n",
    "    for i in itr:\n",
    "        if fun(i)==True:\n",
    "            l.append(i)\n",
    "    return l"
   ]
  },
  {
   "cell_type": "code",
   "execution_count": 76,
   "metadata": {},
   "outputs": [
    {
     "data": {
      "text/plain": [
       "[2, 4]"
      ]
     },
     "execution_count": 76,
     "metadata": {},
     "output_type": "execute_result"
    }
   ],
   "source": [
    "#Test myfilter() using lambda(anonymous fun()) & list obj\n",
    "myfilter(lambda x:x%2==0,[1,2,3,4,5])"
   ]
  },
  {
   "cell_type": "code",
   "execution_count": 78,
   "metadata": {},
   "outputs": [
    {
     "data": {
      "text/plain": [
       "[20]"
      ]
     },
     "execution_count": 78,
     "metadata": {},
     "output_type": "execute_result"
    }
   ],
   "source": [
    "#udf is created to pass as fun arg in myfilter()\n",
    "def myFunc(x):\n",
    "    if x < 18:\n",
    "        return False\n",
    "    else:\n",
    "        return True\n",
    "#Test myfilter() using myFunc() udf and list obj\n",
    "myfilter(myFunc,[1,2,3,4,5,20])"
   ]
  },
  {
   "cell_type": "markdown",
   "metadata": {},
   "source": [
    "2. Implement List comprehensions to produce the following lists.\n",
    "Write List comprehensions to produce the following Lists"
   ]
  },
  {
   "cell_type": "markdown",
   "metadata": {},
   "source": [
    "['x', 'xx', 'xxx', 'xxxx', 'y', 'yy', 'yyy', 'yyyy', 'z', 'zz', 'zzz', 'zzzz']"
   ]
  },
  {
   "cell_type": "code",
   "execution_count": 79,
   "metadata": {},
   "outputs": [
    {
     "data": {
      "text/plain": [
       "['x', 'xx', 'xxx', 'xxxx', 'y', 'yy', 'yyy', 'yyyy', 'z', 'zz', 'zzz', 'zzzz']"
      ]
     },
     "execution_count": 79,
     "metadata": {},
     "output_type": "execute_result"
    }
   ],
   "source": [
    "l=['x','y','z']#List\n",
    "lst = [j*k for j in l for k in range(1,len(l)+2)] #List Comprehension to generate above data pattern\n",
    "lst #result"
   ]
  },
  {
   "cell_type": "markdown",
   "metadata": {},
   "source": [
    "['x', 'y', 'z', 'xx', 'yy', 'zz', 'xxx', 'yyy', 'zzz', 'xxxx', 'yyyy', 'zzzz']"
   ]
  },
  {
   "cell_type": "code",
   "execution_count": 80,
   "metadata": {},
   "outputs": [
    {
     "data": {
      "text/plain": [
       "['x', 'y', 'z', 'xx', 'yy', 'zz', 'xxx', 'yyy', 'zzz', 'xxxx', 'yyyy', 'zzzz']"
      ]
     },
     "execution_count": 80,
     "metadata": {},
     "output_type": "execute_result"
    }
   ],
   "source": [
    "l=['x','y','z'] #List\n",
    "l1=[] #Empty List\n",
    "\n",
    "#Logic to generate above data pattern\n",
    "for i in range(1,len(l)+2):\n",
    "    for j in l:\n",
    "        l1.append(j*i)\n",
    "l1 #result"
   ]
  },
  {
   "cell_type": "markdown",
   "metadata": {},
   "source": [
    "[[2], [3], [4], [3], [4], [5], [4], [5], [6]] [[2, 3, 4, 5], [3, 4, 5, 6],\n",
    "[4, 5, 6, 7], [5, 6, 7, 8]]"
   ]
  },
  {
   "cell_type": "code",
   "execution_count": 81,
   "metadata": {},
   "outputs": [
    {
     "name": "stdout",
     "output_type": "stream",
     "text": [
      "[[2], [3], [4], [3], [4], [5], [4], [5], [6]] [[2, 3, 4, 5], [3, 4, 5, 6], [4, 5, 6, 7], [5, 6, 7, 8]]\n"
     ]
    }
   ],
   "source": [
    "l1=[2,3,4,5,6] #List\n",
    "l2=[2,3,4,5,6,7,8] #List\n",
    "l3=[] #Empty List\n",
    "l4=[] #Empty List\n",
    "#l5=[]\n",
    "n1=3 #Int\n",
    "n2=4 #Int\n",
    "\n",
    "#Logic to generate above data pattern\n",
    "for i in range(0,n1):\n",
    "    for j in range(i,3+i):\n",
    "        l3.append([l1[j]])\n",
    "#l3\n",
    "for i in range(0,n2):\n",
    "    l4.append(l2[i:4+i])\n",
    "#l4\n",
    "print(l3,l4) #output"
   ]
  },
  {
   "cell_type": "markdown",
   "metadata": {},
   "source": [
    "[(1, 1), (2, 1), (3, 1), (1, 2), (2, 2), (3, 2), (1, 3), (2, 3), (3, 3)]"
   ]
  },
  {
   "cell_type": "code",
   "execution_count": 82,
   "metadata": {},
   "outputs": [
    {
     "data": {
      "text/plain": [
       "[(1, 1), (2, 1), (3, 1), (1, 2), (2, 2), (3, 2), (1, 3), (2, 3), (3, 3)]"
      ]
     },
     "execution_count": 82,
     "metadata": {},
     "output_type": "execute_result"
    }
   ],
   "source": [
    "l=[1,2,3] #List\n",
    "l1=[] #Empty List\n",
    "\n",
    "#Logic to generate above data pattern\n",
    "for i in range(1,len(l)+1):\n",
    "    for j in range(1,len(l)+1):\n",
    "        l1.append((j,i))\n",
    "l1 #Result"
   ]
  }
 ],
 "metadata": {
  "kernelspec": {
   "display_name": "Python 3",
   "language": "python",
   "name": "python3"
  },
  "language_info": {
   "codemirror_mode": {
    "name": "ipython",
    "version": 3
   },
   "file_extension": ".py",
   "mimetype": "text/x-python",
   "name": "python",
   "nbconvert_exporter": "python",
   "pygments_lexer": "ipython3",
   "version": "3.6.5"
  }
 },
 "nbformat": 4,
 "nbformat_minor": 2
}
