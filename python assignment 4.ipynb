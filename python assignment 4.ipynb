{
 "cells": [
  {
   "cell_type": "markdown",
   "metadata": {},
   "source": [
    "1.1 Write a Python Program(with class concepts) to find the area of the triangle using the below\n",
    "formula.\n",
    "area = (s*(s-a)*(s-b)*(s-c)) ** 0.5\n",
    "Function to take the length of the sides of triangle from user should be defined in the parent\n",
    "class and function to calculate the area should be defined in subclass."
   ]
  },
  {
   "cell_type": "code",
   "execution_count": 12,
   "metadata": {},
   "outputs": [
    {
     "name": "stdout",
     "output_type": "stream",
     "text": [
      "Enter 1st side lenght of triangle: 10\n",
      "Enter 2nd side lenght of triangle: 10\n",
      "Enter 3rd side lenght of triangle: 10\n",
      "Area of triangle is 43.30\n"
     ]
    }
   ],
   "source": [
    "#Parent class with fun- getSidesLength() which takes triangle side length\n",
    "class A:\n",
    "    def getSidesLength(self):\n",
    "        a=int(input(\"Enter 1st side lenght of triangle: \"))\n",
    "        b=int(input(\"Enter 2nd side lenght of triangle: \"))\n",
    "        c=int(input(\"Enter 3rd side lenght of triangle: \"))\n",
    "        return a,b,c\n",
    "    \n",
    "#Child class with fun- triangleArea() which inherites triangle side length from super class to calculate area of Triangle\n",
    "class B(A):\n",
    "    def triangleArea(self):\n",
    "        a,b,c=super().getSidesLength()\n",
    "        s=(a+b+c)/2\n",
    "        #print(\"s= \",s)\n",
    "        area=(s*(s-a)*(s-b)*(s-c))**0.5\n",
    "        return area\n",
    "    \n",
    "b = B() #Child class obj creation\n",
    "#Output- Triangle Area\n",
    "print(\"Area of triangle is {0:.2f}\".format(b.triangleArea()))"
   ]
  },
  {
   "cell_type": "markdown",
   "metadata": {},
   "source": [
    "1.2 Write a function filter_long_words() that takes a list of words and an integer n and returns\n",
    "the list of words that are longer than n."
   ]
  },
  {
   "cell_type": "code",
   "execution_count": 32,
   "metadata": {},
   "outputs": [],
   "source": [
    "def filter_long_words(lst,n):\n",
    "    '''\n",
    "    fun takes args lst->list of words and n->integer\n",
    "    and return list of words that are longer than n\n",
    "    '''\n",
    "    l=[] #Empty List\n",
    "    for i in lst: #Logic \n",
    "        if len(i)>n:\n",
    "            l.append(i)\n",
    "    return l           "
   ]
  },
  {
   "cell_type": "code",
   "execution_count": 33,
   "metadata": {},
   "outputs": [
    {
     "data": {
      "text/plain": [
       "['kamal', 'sudh', 'kumar']"
      ]
     },
     "execution_count": 33,
     "metadata": {},
     "output_type": "execute_result"
    }
   ],
   "source": [
    "#Test filter_long_words() with list of words and int args\n",
    "filter_long_words(['raj','kamal','sudh','kumar'],3)"
   ]
  },
  {
   "cell_type": "markdown",
   "metadata": {},
   "source": [
    "2.1 Write a Python program using function concept that maps list of words into a list of integers\n",
    "representing the lengths of the corresponding words.\n",
    "Hint: If a list [ ab,cde,erty] is passed on to the python function output should come as [2,3,4]\n",
    "Here 2,3 and 4 are the lengths of the words in the list."
   ]
  },
  {
   "cell_type": "code",
   "execution_count": 34,
   "metadata": {},
   "outputs": [],
   "source": [
    "def mapsListOfWords(lst):\n",
    "    '''\n",
    "    fun takes list of words as arg and maps into list of integers \n",
    "    representing the lengths of corresponding words\n",
    "    '''\n",
    "    l=[] #Empty List\n",
    "    for i in lst: #Logic\n",
    "        l.append(len(i))\n",
    "    return l\n"
   ]
  },
  {
   "cell_type": "code",
   "execution_count": 36,
   "metadata": {},
   "outputs": [
    {
     "data": {
      "text/plain": [
       "[2, 3, 4]"
      ]
     },
     "execution_count": 36,
     "metadata": {},
     "output_type": "execute_result"
    }
   ],
   "source": [
    "#Test mapsListOfWords() with List of words\n",
    "mapsListOfWords(['ab','cde','erty'])"
   ]
  },
  {
   "cell_type": "markdown",
   "metadata": {},
   "source": [
    "2.2 Write a Python function which takes a character (i.e. a string of length 1) and returns True if\n",
    "it is a vowel, False otherwise."
   ]
  },
  {
   "cell_type": "code",
   "execution_count": 61,
   "metadata": {},
   "outputs": [],
   "source": [
    "# isVowel() is a function which takes a charater as a arg and returns True if it is a vowel else False with \n",
    "#some validation steps\n",
    "def isVowel(s):\n",
    "    if type(s)==str:\n",
    "        if len(s)==1:\n",
    "            #if s=='a' or s=='e' or s=='i' or s=='o' or s=='u':\n",
    "            if s in ('a','e','i','o','u'):\n",
    "                return True\n",
    "            else:\n",
    "                return False\n",
    "        else:\n",
    "            print(\"Enter string of length one only i.e. charater\")\n",
    "    else:\n",
    "        print(\"Only characters allowed\")\n",
    "        "
   ]
  },
  {
   "cell_type": "code",
   "execution_count": 62,
   "metadata": {},
   "outputs": [
    {
     "data": {
      "text/plain": [
       "True"
      ]
     },
     "execution_count": 62,
     "metadata": {},
     "output_type": "execute_result"
    }
   ],
   "source": [
    "#Test isVowel() with char as argument\n",
    "isVowel('e')"
   ]
  }
 ],
 "metadata": {
  "kernelspec": {
   "display_name": "Python 3",
   "language": "python",
   "name": "python3"
  },
  "language_info": {
   "codemirror_mode": {
    "name": "ipython",
    "version": 3
   },
   "file_extension": ".py",
   "mimetype": "text/x-python",
   "name": "python",
   "nbconvert_exporter": "python",
   "pygments_lexer": "ipython3",
   "version": "3.6.5"
  }
 },
 "nbformat": 4,
 "nbformat_minor": 2
}
