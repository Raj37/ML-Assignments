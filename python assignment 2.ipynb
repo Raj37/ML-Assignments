{
 "cells": [
  {
   "cell_type": "markdown",
   "metadata": {},
   "source": [
    "###### 5. Create the below pattern using nested for loop in Python."
   ]
  },
  {
   "cell_type": "markdown",
   "metadata": {},
   "source": [
    "*\n",
    "* *\n",
    "* * *\n",
    "* * * *\n",
    "* * * * *\n",
    "* * * *\n",
    "* * *\n",
    "* *\n",
    "*"
   ]
  },
  {
   "cell_type": "code",
   "execution_count": 1,
   "metadata": {},
   "outputs": [
    {
     "name": "stdout",
     "output_type": "stream",
     "text": [
      "* \r\n",
      "* * \r\n",
      "* * * \r\n",
      "* * * * \r\n",
      "* * * * * \r\n",
      "* * * * \r\n",
      "* * * \r\n",
      "* * \r\n",
      "* \r\n",
      "\r\n"
     ]
    }
   ],
   "source": [
    "#upper triangle\n",
    "for i in range(0, 5): #loop to iterate row wise\n",
    "    for j in range(0, i+1): #loop to iterate column wise \n",
    "        print(\"* \", end=\"\") #Print * w/0 new line jump\n",
    "    print(\"\\r\") #next line\n",
    "    \n",
    "#lower triangle  \n",
    "for i in range(5, 0, -1): #row iterator\n",
    "    for j in range(0, i-1): #col iterator\n",
    "        print(\"* \", end=\"\")\n",
    "    print(\"\\r\")"
   ]
  },
  {
   "cell_type": "markdown",
   "metadata": {},
   "source": [
    "##### 6. Write a Python program to reverse a word after accepting the input from the user.\n",
    "##### Sample Output:\n",
    "##### Input word: Ineuron\n",
    "##### Output: noruenI"
   ]
  },
  {
   "cell_type": "code",
   "execution_count": 2,
   "metadata": {},
   "outputs": [
    {
     "name": "stdout",
     "output_type": "stream",
     "text": [
      "Ineuron\n",
      "Input word:  Ineuron\n",
      "Output:  noruenI\n"
     ]
    }
   ],
   "source": [
    "#Take input from user\n",
    "word = input()\n",
    "\n",
    "#Sample Output:\n",
    "print(\"Input word: \", word)\n",
    "print(\"Output: \",word[::-1])"
   ]
  }
 ],
 "metadata": {
  "kernelspec": {
   "display_name": "Python 3",
   "language": "python",
   "name": "python3"
  },
  "language_info": {
   "codemirror_mode": {
    "name": "ipython",
    "version": 3
   },
   "file_extension": ".py",
   "mimetype": "text/x-python",
   "name": "python",
   "nbconvert_exporter": "python",
   "pygments_lexer": "ipython3",
   "version": "3.6.5"
  }
 },
 "nbformat": 4,
 "nbformat_minor": 2
}
